{
  "nbformat": 4,
  "nbformat_minor": 0,
  "metadata": {
    "colab": {
      "name": "Untitled10.ipynb",
      "provenance": []
    },
    "kernelspec": {
      "name": "python3",
      "display_name": "Python 3"
    }
  },
  "cells": [
    {
      "cell_type": "code",
      "metadata": {
        "id": "M5pkb2kdUY-6"
      },
      "source": [
        "from pyspark.sql import SparkSession\r\n",
        "\r\n",
        "spark = SparkSession\\\r\n",
        "    .builder\\\r\n",
        "    .appName(\"Heart Failure Predictions\")\\\r\n",
        "    .getOrCreate()\r\n",
        "\r\n",
        "df = spark.read\\\r\n",
        "    .option(\"header\", True)\\\r\n",
        "    .csv(\"heart_failure.csv\")"
      ],
      "execution_count": 5,
      "outputs": []
    },
    {
      "cell_type": "code",
      "metadata": {
        "id": "kY91PT3DUH2m"
      },
      "source": [
        "numeric_features = [\r\n",
        "  \"age\",\r\n",
        "  \"creatinine_phosphokinase\",\r\n",
        "  \"ejection_fraction\",\r\n",
        "  \"high_blood_pressure\",\r\n",
        "  \"platelets\",\r\n",
        "  \"serum_creatinine\",\r\n",
        "  \"serum_sodium\",\r\n",
        "  \"DEATH_EVENT\"\r\n",
        "]\r\n",
        "df = df[numeric_features]"
      ],
      "execution_count": 6,
      "outputs": []
    },
    {
      "cell_type": "code",
      "metadata": {
        "id": "kLrJGQh6W-5t"
      },
      "source": [
        "from pyspark.sql.types import DoubleType\r\n",
        "import pyspark.sql.functions as f\r\n",
        "\r\n",
        "df = df.withColumn(\"age\", f.col(\"age\").cast(DoubleType()))\\\r\n",
        "  .withColumn(\"creatinine_phosphokinase\", f.col(\"creatinine_phosphokinase\").cast(DoubleType()))\\\r\n",
        "  .withColumn(\"ejection_fraction\", f.col(\"ejection_fraction\").cast(DoubleType()))\\\r\n",
        "  .withColumn(\"high_blood_pressure\", f.col(\"high_blood_pressure\").cast(DoubleType()))\\\r\n",
        "  .withColumn(\"platelets\", f.col(\"platelets\").cast(DoubleType()))\\\r\n",
        "  .withColumn(\"serum_creatinine\", f.col(\"serum_creatinine\").cast(DoubleType()))\\\r\n",
        "  .withColumn(\"serum_sodium\", f.col(\"serum_sodium\").cast(DoubleType()))\\\r\n",
        "  .withColumn(\"DEATH_EVENT\", f.col(\"DEATH_EVENT\").cast(DoubleType()))\\\r\n",
        "  .withColumnRenamed(\"DEATH_EVENT\", \"label\")"
      ],
      "execution_count": 7,
      "outputs": []
    },
    {
      "cell_type": "code",
      "metadata": {
        "id": "fXJJPlJiXq3_"
      },
      "source": [
        "from pyspark.sql import Window\r\n",
        "from pyspark.sql.types import BooleanType\r\n",
        "\r\n",
        "# serum_creatinine is highly corellated to label\r\n",
        "window = Window.partitionBy(\"label\").orderBy(\"serum_creatinine\")\r\n",
        "udf = f.udf(lambda x: x % 5 == 0, BooleanType())"
      ],
      "execution_count": 8,
      "outputs": []
    },
    {
      "cell_type": "code",
      "metadata": {
        "id": "H3ow7VxVZ-gQ"
      },
      "source": [
        "df = df.withColumn(\"_test_set\", f.row_number().over(window))\\\r\n",
        "  .withColumn(\"_test_set\", udf(f.col(\"_test_set\")))"
      ],
      "execution_count": 9,
      "outputs": []
    },
    {
      "cell_type": "code",
      "metadata": {
        "id": "5Aer2A0xbL-x"
      },
      "source": [
        "test = df.where(df[\"_test_set\"] == True)\r\n",
        "test = test.drop(\"_test_set\")\r\n",
        "train = df.where(df[\"_test_set\"] == False)\r\n",
        "train = train.drop(\"_test_set\")"
      ],
      "execution_count": 10,
      "outputs": []
    },
    {
      "cell_type": "code",
      "metadata": {
        "id": "8ydqHJeybM7N"
      },
      "source": [
        "from pyspark.ml.feature import VectorAssembler, MinMaxScaler\r\n",
        "from pyspark.ml import Pipeline\r\n",
        "\r\n",
        "assembler = VectorAssembler(\r\n",
        "    inputCols = [\"age\",\r\n",
        "                 \"creatinine_phosphokinase\",\r\n",
        "                 \"ejection_fraction\",\r\n",
        "                 \"high_blood_pressure\",\r\n",
        "                 \"platelets\",\r\n",
        "                 \"serum_creatinine\",\r\n",
        "                 \"serum_sodium\" ], \r\n",
        "    outputCol = \"vec\"\r\n",
        ")\r\n",
        "scaler = MinMaxScaler(\r\n",
        "    inputCol = \"vec\", \r\n",
        "    outputCol = \"features\"\r\n",
        ")\r\n",
        "pipeline = Pipeline(stages = [\r\n",
        "    assembler,\r\n",
        "    scaler\r\n",
        "])"
      ],
      "execution_count": 11,
      "outputs": []
    },
    {
      "cell_type": "code",
      "metadata": {
        "id": "6lpYJyK5ezJq"
      },
      "source": [
        "pipeline = pipeline.fit(train)\r\n",
        "train = pipeline.transform(train)\r\n",
        "test = pipeline.transform(test)"
      ],
      "execution_count": 12,
      "outputs": []
    },
    {
      "cell_type": "code",
      "metadata": {
        "id": "MyKGW7IqcsRJ"
      },
      "source": [
        "from pyspark.ml.tuning import CrossValidator, ParamGridBuilder\r\n",
        "from pyspark.ml.evaluation import BinaryClassificationEvaluator\r\n",
        "from pyspark.ml.classification import LogisticRegression\r\n",
        "\r\n",
        "lr = LogisticRegression()\r\n",
        "\r\n",
        "paramGrid = ParamGridBuilder()\\\r\n",
        "  .addGrid(lr.regParam, [0.1, 0.01])\\\r\n",
        "  .addGrid(lr.elasticNetParam, [0.5, 0.8])\\\r\n",
        "  .build()\r\n",
        "\r\n",
        "crossval = CrossValidator(estimator = lr,\r\n",
        "                          estimatorParamMaps = paramGrid,\r\n",
        "                          evaluator = BinaryClassificationEvaluator(metricName = \"areaUnderPR\"),\r\n",
        "                          numFolds = 3)\r\n",
        "cvModel = crossval.fit(train)"
      ],
      "execution_count": 13,
      "outputs": []
    },
    {
      "cell_type": "code",
      "metadata": {
        "id": "b8vW8uXwf1BV"
      },
      "source": [
        "bestModel = cvModel.bestModel\r\n",
        "test = bestModel.transform(test)"
      ],
      "execution_count": 14,
      "outputs": []
    },
    {
      "cell_type": "code",
      "metadata": {
        "colab": {
          "base_uri": "https://localhost:8080/"
        },
        "id": "UEHjyYxmf3OV",
        "outputId": "725d8455-1c53-40f7-bda2-df6fb805f3f0"
      },
      "source": [
        "evaluator = BinaryClassificationEvaluator(metricName = \"areaUnderPR\")\r\n",
        "evaluator.evaluate(test)"
      ],
      "execution_count": 15,
      "outputs": [
        {
          "output_type": "execute_result",
          "data": {
            "text/plain": [
              "0.7002535895081374"
            ]
          },
          "metadata": {
            "tags": []
          },
          "execution_count": 15
        }
      ]
    },
    {
      "cell_type": "code",
      "metadata": {
        "id": "cxmX0Fc3rs0P"
      },
      "source": [
        ""
      ],
      "execution_count": null,
      "outputs": []
    }
  ]
}